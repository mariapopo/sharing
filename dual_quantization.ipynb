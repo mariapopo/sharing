{
 "cells": [
  {
   "cell_type": "code",
   "execution_count": 1,
   "id": "b7d586ec",
   "metadata": {},
   "outputs": [],
   "source": [
    "#!/usr/bin/env python3\n",
    "# -*- coding: utf-8 -*-\n",
    "\n",
    "\"\"\"\n",
    "Created on Aug 25 14:47:58 2023\n",
    "\n",
    "@author: mariapopovic\n",
    "\"\"\"\n",
    "\n",
    "from numpy import gradient, arange, e, array, exp, append, linspace, log, average, around, arange, sqrt, transpose, random, inf, multiply, linalg, matmul, histogram\n",
    "import matplotlib.pyplot as plt\n",
    "from scipy.optimize import fsolve\n",
    "from math import erf, pi, erfc\n",
    "from scipy.special import erfinv\n",
    "from scipy.integrate import quad\n",
    "from scipy.stats import norm\n",
    "from statistics import mean, stdev, variance\n",
    "from sklearn.metrics import mean_absolute_error, mean_squared_error"
   ]
  },
  {
   "cell_type": "code",
   "execution_count": 5,
   "id": "8034256e",
   "metadata": {},
   "outputs": [
    {
     "name": "stdout",
     "output_type": "stream",
     "text": [
      "[1.22420701]\n"
     ]
    }
   ],
   "source": [
    "eps = 0.001\n",
    "\n",
    "def phi(x):\n",
    "    \n",
    "    Phi = norm.cdf(x + eps) - norm.cdf(x)\n",
    "\n",
    "    return Phi/eps\n",
    "    \n",
    "\n",
    "def equation_h(h):\n",
    "\n",
    "    num = quad(lambda x: x*phi(x), -inf, -h/2)[0]\n",
    "    den = quad(lambda x: phi(x), -inf, -h/2)[0]\n",
    "    \n",
    "    return h + num/den \n",
    "\n",
    "\n",
    "    \n",
    "h_sol = fsolve(equation_h,0)\n",
    "\n",
    "print(h_sol)"
   ]
  }
 ],
 "metadata": {
  "kernelspec": {
   "display_name": "Python 3 (ipykernel)",
   "language": "python",
   "name": "python3"
  },
  "language_info": {
   "codemirror_mode": {
    "name": "ipython",
    "version": 3
   },
   "file_extension": ".py",
   "mimetype": "text/x-python",
   "name": "python",
   "nbconvert_exporter": "python",
   "pygments_lexer": "ipython3",
   "version": "3.9.13"
  }
 },
 "nbformat": 4,
 "nbformat_minor": 5
}
